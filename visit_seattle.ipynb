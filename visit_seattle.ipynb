{
 "cells": [
  {
   "cell_type": "code",
   "execution_count": 86,
   "metadata": {},
   "outputs": [],
   "source": [
    "import requests\n",
    "from bs4 import BeautifulSoup\n",
    "import time\n",
    "import pandas as pd"
   ]
  },
  {
   "cell_type": "code",
   "execution_count": 55,
   "metadata": {},
   "outputs": [],
   "source": [
    "## Traverse all pages\n",
    "base_url = \"https://visitseattle.org/events/page/\"\n",
    "page = 1\n",
    "selector = \"div.search-result-preview > div > h3 > a\"\n",
    "events_link = []\n",
    "\n",
    "while True:\n",
    "    response = requests.get(base_url+str(page))\n",
    "    # Exit the loop if no next page is found\n",
    "    if response.status_code != 200:\n",
    "        break\n",
    "    \n",
    "    soup = BeautifulSoup(response.content, 'html.parser')\n",
    "    \n",
    "    # Scrape data \n",
    "    a_elements = soup.select(selector)\n",
    "    events_link += [x['href'] for x in a_elements]\n",
    "    \n",
    "    page += 1  # Increment to the next page\n",
    "    time.sleep(0.5)"
   ]
  },
  {
   "cell_type": "code",
   "execution_count": 89,
   "metadata": {},
   "outputs": [],
   "source": [
    "## Get the detail of event\n",
    "name_selector = \"div:nth-child(1) > div.medium-6.columns.event-top > h1\"\n",
    "date_selector = \"div:nth-child(1) > div.medium-6.columns.event-top > h4 > span:nth-child(1)\"\n",
    "location_selector = \"div:nth-child(1) > div.medium-6.columns.event-top > h4 > span:nth-child(2)\"\n",
    "type_selector = \"div:nth-child(1) > div.medium-6.columns.event-top > a:nth-child(3)\"\n",
    "region_selector = \"div:nth-child(1) > div.medium-6.columns.event-top > a:nth-child(4)\"\n",
    "\n",
    "data = []\n",
    "\n",
    "for event in events_link:\n",
    "    res = requests.get(event)\n",
    "    soup = BeautifulSoup(res.content, 'html.parser')\n",
    "    e_name = soup.select_one(name_selector).get_text().strip() if soup.select_one(name_selector) else 'Name Not Found'\n",
    "    e_date = soup.select_one(date_selector).get_text().strip() if soup.select_one(date_selector) else 'Date Not Found'\n",
    "    e_location = soup.select_one(location_selector).get_text().strip() if soup.select_one(location_selector) else 'Location Not Found'\n",
    "    e_type = soup.select_one(type_selector).get_text().strip() if soup.select_one(type_selector) else 'Type Not Found'\n",
    "    e_region = soup.select_one(region_selector).get_text().strip() if soup.select_one(region_selector) else 'Region Not Found'\n",
    "    data.append({\n",
    "        \"Name\": e_name, \n",
    "        \"Date\": e_date, \n",
    "        \"Location\": e_location,\n",
    "        \"Type\": e_type,\n",
    "        \"Region\": e_region\n",
    "    })\n",
    "    \n",
    "df = pd.DataFrame(data)\n",
    "csv_file = 'events.csv'\n",
    "df.to_csv(csv_file, index=False)\n"
   ]
  },
  {
   "cell_type": "code",
   "execution_count": 90,
   "metadata": {},
   "outputs": [
    {
     "name": "stdout",
     "output_type": "stream",
     "text": [
      "Manazma Sheen\n",
      "Ongoing\n",
      "Sea Monster Lounge\n",
      "Music\n",
      "Wallingford / Greenlake\n"
     ]
    }
   ],
   "source": [
    "print(e_name)\n",
    "print(e_date)\n",
    "print(e_location)\n",
    "print(e_type)\n",
    "print(e_region)"
   ]
  },
  {
   "cell_type": "code",
   "execution_count": null,
   "metadata": {},
   "outputs": [],
   "source": [
    "# Use \n",
    "# Get (lat, lon) based on location name"
   ]
  },
  {
   "cell_type": "code",
   "execution_count": null,
   "metadata": {},
   "outputs": [],
   "source": [
    "# Loop up the weather"
   ]
  }
 ],
 "metadata": {
  "kernelspec": {
   "display_name": "base",
   "language": "python",
   "name": "python3"
  },
  "language_info": {
   "codemirror_mode": {
    "name": "ipython",
    "version": 3
   },
   "file_extension": ".py",
   "mimetype": "text/x-python",
   "name": "python",
   "nbconvert_exporter": "python",
   "pygments_lexer": "ipython3",
   "version": "3.10.6"
  }
 },
 "nbformat": 4,
 "nbformat_minor": 2
}
